{
  "nbformat": 4,
  "nbformat_minor": 0,
  "metadata": {
    "colab": {
      "provenance": []
    },
    "kernelspec": {
      "name": "python3",
      "display_name": "Python 3"
    },
    "language_info": {
      "name": "python"
    }
  },
  "cells": [
    {
      "cell_type": "markdown",
      "source": [
        "# Setup Spark\n",
        "\n"
      ],
      "metadata": {
        "id": "7_s1HOO53naM"
      }
    },
    {
      "cell_type": "code",
      "source": [
        "# Remove any corrupted Spark archive\n",
        "!rm -f spark-3.1.2-bin-hadoop2.7.tgz\n",
        "\n",
        "# Download and extract Spark\n",
        "!wget -q http://archive.apache.org/dist/spark/spark-3.1.2/spark-3.1.2-bin-hadoop2.7.tgz\n",
        "!tar xf spark-3.1.2-bin-hadoop2.7.tgz\n",
        "\n",
        "# Install Python dependencies\n",
        "!pip install -q findspark\n",
        "!pip install py4j\n",
        "\n",
        "# Set SPARK_HOME environment variable\n",
        "import os\n",
        "os.environ[\"SPARK_HOME\"] = \"/content/spark-3.1.2-bin-hadoop2.7\"\n",
        "\n",
        "# Initialize Spark with findspark\n",
        "import findspark\n",
        "findspark.init()\n",
        "\n",
        "# Start Spark session\n",
        "from pyspark.sql import SparkSession\n",
        "spark = SparkSession.builder.master(\"local[*]\").appName(\"CyberSecurityModeling\").getOrCreate()\n"
      ],
      "metadata": {
        "colab": {
          "base_uri": "https://localhost:8080/"
        },
        "id": "-X0ki10YwQFU",
        "outputId": "6727a323-4518-49c9-fbd0-a8e8ad11cfe6"
      },
      "execution_count": 1,
      "outputs": [
        {
          "output_type": "stream",
          "name": "stdout",
          "text": [
            "Requirement already satisfied: py4j in /usr/local/lib/python3.11/dist-packages (0.10.9.7)\n"
          ]
        }
      ]
    },
    {
      "cell_type": "markdown",
      "source": [
        "# Load Preprocessed Data"
      ],
      "metadata": {
        "id": "GWbbd2yu3eql"
      }
    },
    {
      "cell_type": "code",
      "source": [
        "from google.colab import drive\n",
        "drive.mount(\"/content/drive\")\n",
        "\n",
        "df = spark.read.parquet(\"/content/drive/MyDrive/preprocessed_balanced_data.parquet\")\n",
        "\n",
        "# Print current column names for reference\n",
        "print(\"Column names:\", df.columns)\n",
        "\n",
        "df.printSchema()\n",
        "df.show(5)\n"
      ],
      "metadata": {
        "colab": {
          "base_uri": "https://localhost:8080/"
        },
        "id": "m6MTpZKCwibf",
        "outputId": "429d08d5-acc8-44d1-8d37-d4882d6de34d"
      },
      "execution_count": 6,
      "outputs": [
        {
          "output_type": "stream",
          "name": "stdout",
          "text": [
            "Drive already mounted at /content/drive; to attempt to forcibly remount, call drive.mount(\"/content/drive\", force_remount=True).\n",
            "Column names: ['Header_Length', 'Protocol_Type', 'Time_To_Live', 'Rate', 'syn_flag_number', 'rst_flag_number', 'psh_flag_number', 'ack_flag_number', 'ack_count', 'syn_count', 'rst_count', 'DNS', 'TCP', 'UDP', 'ICMP', 'Tot_sum', 'Min', 'Max', 'AVG', 'Std', 'Tot_size', 'Label']\n",
            "root\n",
            " |-- Header_Length: double (nullable = true)\n",
            " |-- Protocol_Type: long (nullable = true)\n",
            " |-- Time_To_Live: double (nullable = true)\n",
            " |-- Rate: double (nullable = true)\n",
            " |-- syn_flag_number: double (nullable = true)\n",
            " |-- rst_flag_number: double (nullable = true)\n",
            " |-- psh_flag_number: double (nullable = true)\n",
            " |-- ack_flag_number: double (nullable = true)\n",
            " |-- ack_count: double (nullable = true)\n",
            " |-- syn_count: double (nullable = true)\n",
            " |-- rst_count: double (nullable = true)\n",
            " |-- DNS: double (nullable = true)\n",
            " |-- TCP: double (nullable = true)\n",
            " |-- UDP: double (nullable = true)\n",
            " |-- ICMP: double (nullable = true)\n",
            " |-- Tot_sum: double (nullable = true)\n",
            " |-- Min: double (nullable = true)\n",
            " |-- Max: double (nullable = true)\n",
            " |-- AVG: double (nullable = true)\n",
            " |-- Std: double (nullable = true)\n",
            " |-- Tot_size: double (nullable = true)\n",
            " |-- Label: long (nullable = true)\n",
            "\n",
            "+-------------------+-------------+--------------------+--------------------+-------------------+--------------------+-------------------+-------------------+-------------------+-------------------+-------------------+--------------------+-------------------+------------------+--------------------+--------------------+-------------------+--------------------+--------------------+--------------------+--------------------+-----+\n",
            "|      Header_Length|Protocol_Type|        Time_To_Live|                Rate|    syn_flag_number|     rst_flag_number|    psh_flag_number|    ack_flag_number|          ack_count|          syn_count|          rst_count|                 DNS|                TCP|               UDP|                ICMP|             Tot_sum|                Min|                 Max|                 AVG|                 Std|            Tot_size|Label|\n",
            "+-------------------+-------------+--------------------+--------------------+-------------------+--------------------+-------------------+-------------------+-------------------+-------------------+-------------------+--------------------+-------------------+------------------+--------------------+--------------------+-------------------+--------------------+--------------------+--------------------+--------------------+-----+\n",
            "|-1.5778837900014127|            4| -0.1757621290210731| -0.8185110155265009|-0.5171807848474012|-0.32883571119028315|-0.3391958645401292|-0.4102189127401759|-0.3520315851292858|-0.5114910936329211|-0.3258159078457702|-0.11836863859906006|-1.1878012307989856|-0.541524532499111|-0.41784372584994617|  2.7683472336625106|0.16963741230603108|  0.6056889837805236|  1.9428973109937735| 0.03789627436837721|  1.9428973109937735|   23|\n",
            "|-0.6694652965351688|            3|-0.04288552919520076|-0.28959792988383737|-0.5171807848474012|-0.32883571119028315|-0.3391958645401292|-0.4102189127401759|-0.3520315851292858|-0.5114910936329211|-0.3258159078457702|-0.11836863859906006|-1.1878012307989856|1.9275756536108717|-0.41784372584994617|-0.29222716350799516|-0.1860363941246052|-0.25981256040559225|  -0.310955446679258| -0.2209449362220177|  -0.310955446679258|   21|\n",
            "|-1.5411800124876252|            1| -0.1785448850383688|0.017467647613557066|-0.5171807848474012|-0.32883571119028315|-0.3391958645401292|-0.3786546973876954|-0.3163771100394909|-0.5114910936329211|-0.3258159078457702|-0.11836863859906006|-1.1671698282705802|-0.541524532499111|  2.2617601585213363|-0.29246575827682547|-0.1860363941246052| -0.2666275331944593|-0.31113115143526443|-0.22314784014193592|-0.31113115143526443|    6|\n",
            "| 0.8124497205840069|            2| -0.1757621290210731|0.004609903334304346|  1.984921908030476|-0.32883571119028315|-0.3391958645401292|0.25262960966191433|0.39671239175640616| 1.9934588482280917|-0.3258159078457702|-0.11836863859906006| 0.8753390220415634|-0.541524532499111|  -0.445186622629245|  0.2443724715913202|-0.1860363941246052|-0.08262326789504884| 0.08420454957929964|0.030555430819413396| 0.08420454957929964|   12|\n",
            "|-0.6602893521567219|            3| -0.1757621290210731|   0.500175752753741|-0.5171807848474012|-0.32883571119028315|-0.3391958645401292|-0.4102189127401759|-0.3520315851292858|-0.5114910936329211|-0.3258159078457702|-0.11836863859906006|-1.1878012307989856|1.9525160595311746|  -0.445186622629245|-0.29282365043007086|-0.1860363941246052|-0.27684999237775987|-0.31139470856927415|-0.22645219602181332|-0.31139470856927415|   14|\n",
            "+-------------------+-------------+--------------------+--------------------+-------------------+--------------------+-------------------+-------------------+-------------------+-------------------+-------------------+--------------------+-------------------+------------------+--------------------+--------------------+-------------------+--------------------+--------------------+--------------------+--------------------+-----+\n",
            "only showing top 5 rows\n",
            "\n"
          ]
        }
      ]
    },
    {
      "cell_type": "markdown",
      "source": [
        "# Encode Label"
      ],
      "metadata": {
        "id": "XvqPvuT63syH"
      }
    },
    {
      "cell_type": "code",
      "source": [
        "from pyspark.ml.feature import StringIndexer\n",
        "label_indexer = StringIndexer(inputCol=\"Label\", outputCol=\"label_index\")\n",
        "df = label_indexer.fit(df).transform(df)\n"
      ],
      "metadata": {
        "id": "95dp_qMrwiS6"
      },
      "execution_count": 7,
      "outputs": []
    },
    {
      "cell_type": "markdown",
      "source": [
        "# Create Feature Vector"
      ],
      "metadata": {
        "id": "46QV6-JI31vr"
      }
    },
    {
      "cell_type": "code",
      "source": [
        "from pyspark.ml.feature import VectorAssembler\n",
        "\n",
        "# Automatically pick all feature columns (exclude Label columns)\n",
        "feature_cols = [col for col in df.columns if col not in [\"Label\", \"label_index\"]]\n",
        "assembler = VectorAssembler(inputCols=feature_cols, outputCol=\"features\")\n",
        "df = assembler.transform(df)"
      ],
      "metadata": {
        "id": "XrGlv--636EW"
      },
      "execution_count": 8,
      "outputs": []
    },
    {
      "cell_type": "markdown",
      "source": [
        "# LOGISTIC REGRESSION\n"
      ],
      "metadata": {
        "id": "InGJFNFx4dfT"
      }
    },
    {
      "cell_type": "code",
      "source": [
        "from pyspark.ml.classification import LogisticRegression\n",
        "from pyspark.ml.evaluation import MulticlassClassificationEvaluator\n",
        "\n",
        "# Split the dataset into train and test\n",
        "train_df, test_df = df.randomSplit([0.8, 0.2], seed=42)\n",
        "\n",
        "lr = LogisticRegression(featuresCol=\"features\", labelCol=\"label_index\", maxIter=20, regParam=0.1, elasticNetParam=0.8)\n",
        "lr_model = lr.fit(train_df)\n",
        "lr_predictions = lr_model.transform(test_df)\n",
        "\n",
        "evaluator = MulticlassClassificationEvaluator(labelCol=\"label_index\", predictionCol=\"prediction\", metricName=\"accuracy\")\n",
        "lr_accuracy = evaluator.evaluate(lr_predictions)\n",
        "print(f\"Logistic Regression Accuracy: {lr_accuracy:.4f}\")\n"
      ],
      "metadata": {
        "colab": {
          "base_uri": "https://localhost:8080/"
        },
        "id": "EHW2heIdwiA8",
        "outputId": "544bcbbf-89ad-4adf-9cfe-0076a0f2fd54"
      },
      "execution_count": 12,
      "outputs": [
        {
          "output_type": "stream",
          "name": "stdout",
          "text": [
            "Logistic Regression Accuracy: 0.5352\n"
          ]
        }
      ]
    },
    {
      "cell_type": "markdown",
      "source": [
        "# RANDOM FOREST"
      ],
      "metadata": {
        "id": "O7Q9SkeL4aFv"
      }
    },
    {
      "cell_type": "code",
      "source": [
        "from pyspark.ml.classification import RandomForestClassifier\n",
        "from pyspark.ml.evaluation import MulticlassClassificationEvaluator\n",
        "\n",
        "rf = RandomForestClassifier(featuresCol=\"features\", labelCol=\"label_index\", numTrees=50, maxDepth=5)\n",
        "rf_model = rf.fit(train_df)\n",
        "rf_predictions = rf_model.transform(test_df)\n",
        "\n",
        "evaluator = MulticlassClassificationEvaluator(labelCol=\"label_index\", predictionCol=\"prediction\", metricName=\"accuracy\")\n",
        "rf_accuracy = evaluator.evaluate(rf_predictions)\n",
        "print(f\"Random Forest Accuracy: {rf_accuracy:.4f}\")\n"
      ],
      "metadata": {
        "colab": {
          "base_uri": "https://localhost:8080/"
        },
        "id": "ku0AR3oxwiGa",
        "outputId": "c53e1764-7776-4723-9da7-545eb89b7f33"
      },
      "execution_count": 13,
      "outputs": [
        {
          "output_type": "stream",
          "name": "stdout",
          "text": [
            "Random Forest Accuracy: 0.7579\n"
          ]
        }
      ]
    },
    {
      "cell_type": "markdown",
      "source": [
        "# Sample And Convert To Pandas for XGBoost"
      ],
      "metadata": {
        "id": "MMSOPnNu3-18"
      }
    },
    {
      "cell_type": "code",
      "source": [
        "sampled_df = df.select(\"features\", \"label_index\").sample(fraction=0.1, seed=42).toPandas()\n",
        "X = sampled_df[\"features\"].apply(lambda x: x.toArray()).tolist()\n",
        "y = sampled_df[\"label_index\"]\n"
      ],
      "metadata": {
        "id": "k5BeQftg3_fM"
      },
      "execution_count": 14,
      "outputs": []
    },
    {
      "cell_type": "markdown",
      "source": [
        "# XGBOOST MODEL"
      ],
      "metadata": {
        "id": "NpSGDHym4SH7"
      }
    },
    {
      "cell_type": "code",
      "source": [
        "from xgboost import XGBClassifier\n",
        "from sklearn.metrics import classification_report, accuracy_score\n",
        "\n",
        "xgb_model = XGBClassifier()\n",
        "xgb_model.fit(X, y)\n",
        "\n",
        "y_pred = xgb_model.predict(X)\n",
        "print(\"XGBoost Accuracy:\", accuracy_score(y, y_pred))\n",
        "print(\"Classification Report:\\n\", classification_report(y, y_pred))\n"
      ],
      "metadata": {
        "colab": {
          "base_uri": "https://localhost:8080/"
        },
        "id": "7eNtYDCKwiJS",
        "outputId": "fd8aaa08-0690-42eb-bf50-e07c8d3282fc"
      },
      "execution_count": 15,
      "outputs": [
        {
          "output_type": "stream",
          "name": "stdout",
          "text": [
            "XGBoost Accuracy: 0.8681988297017209\n",
            "Classification Report:\n",
            "               precision    recall  f1-score   support\n",
            "\n",
            "         0.0       1.00      1.00      1.00      6535\n",
            "         1.0       0.49      0.84      0.62      6532\n",
            "         2.0       0.69      0.34      0.46      6292\n",
            "         3.0       0.75      0.53      0.62      6436\n",
            "         4.0       0.71      0.89      0.79      6350\n",
            "         5.0       1.00      1.00      1.00      6379\n",
            "         6.0       0.70      0.55      0.62      6424\n",
            "         7.0       0.64      0.82      0.72      6468\n",
            "         8.0       0.86      0.65      0.74      6451\n",
            "         9.0       1.00      1.00      1.00      6493\n",
            "        10.0       1.00      1.00      1.00      6448\n",
            "        11.0       1.00      1.00      1.00      6430\n",
            "        12.0       1.00      1.00      1.00      6379\n",
            "        13.0       1.00      1.00      1.00      6442\n",
            "        14.0       1.00      1.00      1.00      6441\n",
            "        15.0       1.00      1.00      1.00      6354\n",
            "        16.0       1.00      1.00      1.00      6429\n",
            "        17.0       1.00      1.00      1.00      6414\n",
            "\n",
            "    accuracy                           0.87    115697\n",
            "   macro avg       0.88      0.87      0.86    115697\n",
            "weighted avg       0.88      0.87      0.86    115697\n",
            "\n"
          ]
        }
      ]
    },
    {
      "cell_type": "code",
      "source": [
        "from pyspark.ml.evaluation import MulticlassClassificationEvaluator\n",
        "from sklearn.metrics import accuracy_score\n",
        "import matplotlib.pyplot as plt\n",
        "\n",
        "evaluator = MulticlassClassificationEvaluator(labelCol=\"label_index\", predictionCol=\"prediction\", metricName=\"accuracy\")\n",
        "\n",
        "# Logistic Regression Accuracy\n",
        "lr_accuracy = evaluator.evaluate(lr_predictions)\n",
        "\n",
        "# Random Forest Accuracy\n",
        "rf_accuracy = evaluator.evaluate(rf_predictions)\n",
        "\n",
        "# XGBoost Accuracy\n",
        "xgb_accuracy = accuracy_score(y, y_pred)\n",
        "\n",
        "# Combine & Plot\n",
        "\n",
        "# Labels and accuracy values\n",
        "models = ['Logistic Regression (PySpark)', 'Random Forest (PySpark)', 'XGBoost (Python)']\n",
        "accuracies = [lr_accuracy * 100, rf_accuracy * 100, xgb_accuracy * 100]  # Convert to %\n",
        "\n",
        "# Plot\n",
        "plt.figure(figsize=(8, 5))\n",
        "bars = plt.bar(models, accuracies, color=['orange', 'green', 'skyblue'])\n",
        "\n",
        "# Annotate bars\n",
        "for bar in bars:\n",
        "    height = bar.get_height()\n",
        "    plt.text(bar.get_x() + bar.get_width()/2, height + 1, f'{height:.2f}%', ha='center', va='bottom')\n",
        "\n",
        "# Format\n",
        "plt.ylim(0, 100)\n",
        "plt.title('Model Accuracy Comparison')\n",
        "plt.ylabel('Accuracy (%)')\n",
        "plt.xticks(rotation=20)\n",
        "plt.grid(axis='y', linestyle='--', alpha=0.6)\n",
        "plt.tight_layout()\n",
        "plt.show()\n"
      ],
      "metadata": {
        "colab": {
          "base_uri": "https://localhost:8080/",
          "height": 507
        },
        "id": "zZMoUph5wVNR",
        "outputId": "1e0f9ff7-93c9-4cb2-8cc7-ab0558c3acf2"
      },
      "execution_count": 16,
      "outputs": [
        {
          "output_type": "display_data",
          "data": {
            "text/plain": [
              "<Figure size 800x500 with 1 Axes>"
            ],
            "image/png": "[encoded data removed]"
          },
          "metadata": {}
        }
      ]
    },
    {
      "cell_type": "code",
      "source": [],
      "metadata": {
        "id": "rlpzUPUY36Mx"
      },
      "execution_count": null,
      "outputs": []
    }
  ]
}